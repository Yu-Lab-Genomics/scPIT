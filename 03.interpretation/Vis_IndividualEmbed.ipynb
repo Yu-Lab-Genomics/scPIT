{
 "cells": [
  {
   "cell_type": "code",
   "execution_count": 1,
   "metadata": {},
   "outputs": [],
   "source": [
    "import sys\n",
    "import os\n",
    "import torch\n",
    "\n",
    "sys.path.append(os.path.abspath('../01.model'))\n",
    "\n",
    "from model import TransformerModel\n",
    "from SingleCellDataset import SingleCellDataset\n",
    "from create_dataloaders import create_dataloaders\n",
    "from load_data import load_data\n",
    "from set_seed import set_seed\n"
   ]
  },
  {
   "cell_type": "code",
   "execution_count": 2,
   "metadata": {},
   "outputs": [],
   "source": [
    "### GPU\n",
    "device = torch.device(f'cuda:{5}' if torch.cuda.is_available() else 'cpu')"
   ]
  },
  {
   "cell_type": "code",
   "execution_count": 3,
   "metadata": {},
   "outputs": [
    {
     "name": "stderr",
     "output_type": "stream",
     "text": [
      "/pool1/liujianhong/prj/20250530_scPIT_review/01.model/load_data.py:6: FutureWarning: You are using `torch.load` with `weights_only=False` (the current default value), which uses the default pickle module implicitly. It is possible to construct malicious pickle data which will execute arbitrary code during unpickling (See https://github.com/pytorch/pytorch/blob/main/SECURITY.md#untrusted-models for more details). In a future release, the default value for `weights_only` will be flipped to `True`. This limits the functions that could be executed during unpickling. Arbitrary objects will no longer be allowed to be loaded via this mode unless they are explicitly allowlisted by the user via `torch.serialization.add_safe_globals`. We recommend you start setting `weights_only=True` for any use case where you don't have full control of the loaded file. Please open an issue on GitHub for any issues related to this experimental feature.\n",
      "  loaded_tensors = torch.load(data_path)\n"
     ]
    },
    {
     "name": "stdout",
     "output_type": "stream",
     "text": [
      "expr_tensortorch.Size([101, 2891, 4118])\n",
      "expr_masktorch.Size([101, 2891])\n",
      "disease_tensortorch.Size([101])\n",
      "meta_tensortorch.Size([101, 3])\n",
      "celltype_tensortorch.Size([101, 2891])\n",
      "target_tensortorch.Size([101])\n",
      "---------------------------------------------\n",
      "Data Statistics:\n",
      "Number of samples: 101\n",
      "Number of cells per sample: 2891\n",
      "Number of genes: 4118\n",
      "Valid cells ratio: 25.57%\n",
      "FEV1 range: [-2.48, 2.59]\n",
      "meta_tensor: torch.Size([101, 3])\n",
      "target_tensor: torch.Size([101])\n",
      "Bin 0 has less than 2 samples (1 samples), adding to training set.\n",
      "Bin 6 has less than 2 samples (1 samples), adding to training set.\n",
      "---------------------------------------------\n",
      "Train Mean: 0.0061, Std: 1.0111\n",
      "Val Mean: -0.0220, Std: 0.9589\n",
      "Number of Train Samples: 79\n",
      "Number of Validation Samples: 22\n",
      "---------------------------------------------\n"
     ]
    }
   ],
   "source": [
    "### load data set\n",
    "data_path = \"../00.preprocessing/101_2981_4118.pth\"\n",
    "\n",
    "expr_tensor, expr_mask, disease_tensor, meta_tensor, celltype_tensor, target_tensor= load_data(data_path, device)\n",
    "dataset = SingleCellDataset(expr_tensor, expr_mask, disease_tensor, meta_tensor, celltype_tensor, target_tensor)\n",
    "train_loader, val_loader = create_dataloaders(\n",
    "    dataset,\n",
    "    batch_size=24,\n",
    "    train_ratio=0.8,\n",
    "    bins=6,\n",
    "    seed=14\n",
    ")"
   ]
  },
  {
   "cell_type": "code",
   "execution_count": 4,
   "metadata": {},
   "outputs": [],
   "source": [
    "### model\n",
    "model = TransformerModel(\n",
    "    gene_count=4118,\n",
    "    dim=128\n",
    ").to(device)"
   ]
  },
  {
   "cell_type": "code",
   "execution_count": null,
   "metadata": {},
   "outputs": [
    {
     "name": "stderr",
     "output_type": "stream",
     "text": [
      "/tmp/ipykernel_3210339/1639191599.py:2: FutureWarning: You are using `torch.load` with `weights_only=False` (the current default value), which uses the default pickle module implicitly. It is possible to construct malicious pickle data which will execute arbitrary code during unpickling (See https://github.com/pytorch/pytorch/blob/main/SECURITY.md#untrusted-models for more details). In a future release, the default value for `weights_only` will be flipped to `True`. This limits the functions that could be executed during unpickling. Arbitrary objects will no longer be allowed to be loaded via this mode unless they are explicitly allowlisted by the user via `torch.serialization.add_safe_globals`. We recommend you start setting `weights_only=True` for any use case where you don't have full control of the loaded file. Please open an issue on GitHub for any issues related to this experimental feature.\n",
      "  model_weight = torch.load('../02.checkpoint/model_weights.pth')\n"
     ]
    },
    {
     "data": {
      "text/plain": [
       "TransformerModel(\n",
       "  (cell_mlp): Sequential(\n",
       "    (0): Linear(in_features=4118, out_features=2048, bias=True)\n",
       "    (1): ReLU()\n",
       "    (2): LayerNorm((2048,), eps=1e-05, elementwise_affine=True)\n",
       "    (3): Linear(in_features=2048, out_features=512, bias=True)\n",
       "    (4): ReLU()\n",
       "    (5): LayerNorm((512,), eps=1e-05, elementwise_affine=True)\n",
       "    (6): Linear(in_features=512, out_features=128, bias=True)\n",
       "    (7): LayerNorm((128,), eps=1e-05, elementwise_affine=True)\n",
       "  )\n",
       "  (transformer_encoder): TransformerEncoder(\n",
       "    (layers): ModuleList(\n",
       "      (0-7): 8 x TransformerEncoderLayer(\n",
       "        (self_attn): MultiheadAttention(\n",
       "          (out_proj): NonDynamicallyQuantizableLinear(in_features=128, out_features=128, bias=True)\n",
       "        )\n",
       "        (linear1): Linear(in_features=128, out_features=2048, bias=True)\n",
       "        (dropout): Dropout(p=0.1, inplace=False)\n",
       "        (linear2): Linear(in_features=2048, out_features=128, bias=True)\n",
       "        (norm1): LayerNorm((128,), eps=1e-05, elementwise_affine=True)\n",
       "        (norm2): LayerNorm((128,), eps=1e-05, elementwise_affine=True)\n",
       "        (dropout1): Dropout(p=0.1, inplace=False)\n",
       "        (dropout2): Dropout(p=0.1, inplace=False)\n",
       "      )\n",
       "    )\n",
       "    (norm): LayerNorm((128,), eps=1e-05, elementwise_affine=True)\n",
       "  )\n",
       "  (fc_out): Linear(in_features=129, out_features=1, bias=True)\n",
       "  (fc_class): Linear(in_features=129, out_features=1, bias=True)\n",
       "  (meta_fc): Linear(in_features=3, out_features=1, bias=True)\n",
       ")"
      ]
     },
     "execution_count": 5,
     "metadata": {},
     "output_type": "execute_result"
    }
   ],
   "source": [
    "### load checkpoint\n",
    "model_weight = torch.load('../02.checkpoint/model_weights.pth')\n",
    "model.load_state_dict(model_weight)\n",
    "model.eval()"
   ]
  },
  {
   "cell_type": "code",
   "execution_count": 6,
   "metadata": {},
   "outputs": [
    {
     "name": "stdout",
     "output_type": "stream",
     "text": [
      "expr_tensor_full shape: torch.Size([22, 2891, 4118])\n",
      "mask_tensor_full shape: torch.Size([22, 2891])\n",
      "meta_tensor_full shape: torch.Size([22, 3])\n",
      "disease_tensor_tensor_full shape: torch.Size([22, 1])\n",
      "celltype_tensor_full shape: torch.Size([22, 2891])\n",
      "target_tensor_full shape: torch.Size([22, 1])\n"
     ]
    }
   ],
   "source": [
    "### Vaildation set\n",
    "\n",
    "expr_list = []\n",
    "mask_list = []\n",
    "meta_list = []\n",
    "disease_list = []\n",
    "celltype_list = []\n",
    "target_list = []\n",
    "\n",
    "sample_count = 0\n",
    "max_samples = 22 \n",
    "\n",
    "for batch in val_loader:\n",
    "    expr_list.append(batch['expr'])\n",
    "    mask_list.append(batch['mask'])\n",
    "    meta_list.append(batch['meta'])\n",
    "    disease_list.append(batch['label'])\n",
    "    celltype_list.append(batch['celltype'])\n",
    "    target_list.append(batch[\"target\"])\n",
    "\n",
    "    sample_count += batch['expr'].size(0)\n",
    "    if sample_count >= max_samples:\n",
    "        break\n",
    "\n",
    "# torch.cat\n",
    "expr_tensor = torch.cat(expr_list, dim=0) # expr_tensor\n",
    "expr_mask = torch.cat(mask_list, dim=0)  # mask_tensor\n",
    "meta_tensor = torch.cat(meta_list, dim=0)  # meta_tensor\n",
    "celltype_tensor = torch.cat(celltype_list, dim=0)  # meta_tensor\n",
    "\n",
    "disease_tensor = torch.cat(disease_list, dim=0)  # fev1%pred_tensor\n",
    "disease_tensor = disease_tensor.unsqueeze(1)\n",
    "\n",
    "target_tensor = torch.cat(target_list, dim=0)  # disease_status_tensor\n",
    "target_tensor = target_tensor.unsqueeze(1)\n",
    "\n",
    "\n",
    "# print shape\n",
    "print(f\"expr_tensor_full shape: {expr_tensor.shape}\")\n",
    "print(f\"mask_tensor_full shape: {expr_mask.shape}\")\n",
    "print(f\"meta_tensor_full shape: {meta_tensor.shape}\")\n",
    "print(f\"disease_tensor_tensor_full shape: {disease_tensor.shape}\")\n",
    "print(f\"celltype_tensor_full shape: {celltype_tensor.shape}\")\n",
    "print(f\"target_tensor_full shape: {target_tensor.shape}\")"
   ]
  },
  {
   "cell_type": "code",
   "execution_count": 7,
   "metadata": {},
   "outputs": [
    {
     "name": "stderr",
     "output_type": "stream",
     "text": [
      "/tmp/ipykernel_3210339/2573564229.py:25: DeprecationWarning: Conversion of an array with ndim > 0 to a scalar is deprecated, and will error in future. Ensure you extract a single element from your array before performing this operation. (Deprecated NumPy 1.25.)\n",
      "  pred_list.append(float(pred))\n",
      "/tmp/ipykernel_3210339/2573564229.py:26: DeprecationWarning: Conversion of an array with ndim > 0 to a scalar is deprecated, and will error in future. Ensure you extract a single element from your array before performing this operation. (Deprecated NumPy 1.25.)\n",
      "  target_list.append(float(sample_target))\n",
      "/tmp/ipykernel_3210339/2573564229.py:43: DeprecationWarning: Conversion of an array with ndim > 0 to a scalar is deprecated, and will error in future. Ensure you extract a single element from your array before performing this operation. (Deprecated NumPy 1.25.)\n",
      "  print(f'{sample}\\t{float(sample_target):.3f}\\t{float(pred):.3f}\\t{float(sample_target-pred):.3f}\\t{cell_len}\\t{int(sample_disease)}\\t{int(predicted_labels)}')\n"
     ]
    },
    {
     "name": "stdout",
     "output_type": "stream",
     "text": [
      "0\t-1.886\t-0.827\t-1.059\t227\t1\t1\n",
      "1\t-1.900\t-1.239\t-0.661\t1121\t1\t1\n",
      "2\t-1.092\t-0.557\t-0.534\t191\t1\t1\n",
      "3\t-1.378\t-0.471\t-0.907\t2054\t1\t1\n",
      "4\t-1.208\t-0.575\t-0.633\t149\t1\t1\n",
      "5\t-0.116\t0.244\t-0.361\t1523\t1\t0\n",
      "6\t0.017\t0.067\t-0.050\t432\t1\t1\n",
      "7\t-0.658\t-0.381\t-0.277\t1170\t1\t1\n",
      "8\t-0.424\t-0.075\t-0.349\t853\t1\t1\n",
      "9\t0.171\t0.190\t-0.019\t1279\t1\t0\n",
      "10\t0.245\t-0.178\t0.423\t894\t1\t0\n",
      "11\t0.871\t1.387\t-0.516\t294\t0\t0\n",
      "12\t0.828\t0.318\t0.509\t2000\t0\t0\n",
      "13\t0.646\t0.102\t0.544\t247\t0\t1\n",
      "14\t0.152\t0.232\t-0.080\t1039\t1\t0\n",
      "15\t0.441\t0.253\t0.187\t341\t0\t0\n",
      "16\t0.146\t-0.280\t0.426\t74\t1\t1\n",
      "17\t0.209\t0.076\t0.133\t261\t0\t1\n",
      "18\t0.561\t-0.126\t0.687\t570\t0\t1\n",
      "19\t1.022\t0.719\t0.303\t215\t0\t0\n",
      "20\t1.734\t0.679\t1.055\t2744\t0\t0\n",
      "21\t1.139\t0.358\t0.781\t1332\t0\t1\n"
     ]
    }
   ],
   "source": [
    "import numpy as np\n",
    "\n",
    "pred_list=[]\n",
    "pred_target_list=[]\n",
    "target_list=[]\n",
    "patient_embeddings = []\n",
    "disease_list = []\n",
    "cell_len_list = []\n",
    "\n",
    "meta_bmi = []\n",
    "meta_age = []\n",
    "meta_sex = []\n",
    "\n",
    "for sample in range(22):\n",
    "    sample_expr_tensor = expr_tensor[sample:sample+1]\n",
    "    sample_meta_tensor = meta_tensor[sample:sample+1]\n",
    "    sample_expr_mask = expr_mask[sample:sample+1]\n",
    "    sample_target = disease_tensor[sample:sample+1].cpu().detach().numpy()\n",
    "    sample_disease = target_tensor[sample:sample+1].cpu().detach().item()\n",
    "\n",
    "    output = model(sample_expr_tensor, sample_meta_tensor, sample_expr_mask, mode = 'extract')\n",
    "    patient_embeddings.append(output[2].cpu().detach().numpy()) # patient embeddings\n",
    "\n",
    "    pred = output[0].cpu().detach().numpy()\n",
    "    pred_list.append(float(pred))\n",
    "    target_list.append(float(sample_target))\n",
    "\n",
    "    pred_target = output[1].cpu()\n",
    "    probabilities = torch.sigmoid(pred_target)\n",
    "    predicted_labels = (probabilities > 0.5).float().item()\n",
    "    pred_target_list.append(int(predicted_labels))\n",
    "\n",
    "    cell_len = sample_expr_tensor[sample_expr_mask==False].shape[0]\n",
    "    cell_len_list.append(cell_len)\n",
    "    meta_bmi.append(float(sample_meta_tensor.tolist()[0][0]))\n",
    "    meta_age.append(float(sample_meta_tensor.tolist()[0][1]))\n",
    "    meta_sex.append(float(sample_meta_tensor.tolist()[0][2]))\n",
    "    if sample_disease == 1:\n",
    "        disease_list.append(\"COPD\")\n",
    "    else:\n",
    "        disease_list.append(\"Control\")\n",
    "    \n",
    "    print(f'{sample}\\t{float(sample_target):.3f}\\t{float(pred):.3f}\\t{float(sample_target-pred):.3f}\\t{cell_len}\\t{int(sample_disease)}\\t{int(predicted_labels)}')\n"
   ]
  },
  {
   "cell_type": "code",
   "execution_count": 8,
   "metadata": {},
   "outputs": [
    {
     "name": "stdout",
     "output_type": "stream",
     "text": [
      "[1 1 1 1 1 0 1 1 1 0 0 1 1 0 0 1 1 0 0 1 1 0]\n"
     ]
    }
   ],
   "source": [
    "all_true = []\n",
    "for i in range(22):\n",
    "    if disease_list[i]==\"COPD\":\n",
    "        disease = 1\n",
    "    else:\n",
    "        disease = 0\n",
    "    if disease == pred_target_list[i]:\n",
    "        all_true.append(1)\n",
    "    else:\n",
    "        all_true.append(0)\n",
    "all_true = np.array(all_true)\n",
    "cell_len_list = np.array(cell_len_list)\n",
    "\n",
    "all_select_true = np.array([0,1,1,1,1,0,0,1,0,0,0,1,1,0,0,1,0,0,0,1,1,0])\n",
    "all_select_true = np.array([1,2,2,2,2,0,1,2,1,0,0,2,2,0,0,2,1,0,0,2,2,0])\n",
    "\n",
    "print(all_true)\n",
    "    "
   ]
  },
  {
   "cell_type": "code",
   "execution_count": 9,
   "metadata": {},
   "outputs": [
    {
     "name": "stderr",
     "output_type": "stream",
     "text": [
      "/tmp/ipykernel_3210339/1805403596.py:32: UserWarning: color is redundantly defined by the 'color' keyword argument and the fmt string \"r-\" (-> color='r'). The keyword argument will take precedence.\n",
      "  plt.plot(x, pred_summary['mean'], 'r-', label='Fitted Line', color = \"#1E90FF\")\n"
     ]
    },
    {
     "data": {
      "image/png": "[encoded data removed]",
      "text/plain": [
       "<Figure size 420x400 with 1 Axes>"
      ]
     },
     "metadata": {},
     "output_type": "display_data"
    }
   ],
   "source": [
    "### predicted FEV1%pred vs observed FEV1%pred\n",
    "\n",
    "import numpy as np\n",
    "import matplotlib.pyplot as plt\n",
    "from sklearn.metrics import mean_absolute_error, mean_squared_error\n",
    "from scipy.stats import pearsonr, spearmanr\n",
    "import statsmodels.api as sm\n",
    "\n",
    "pearson_corr, pearson_pval = pearsonr(pred_list, target_list)\n",
    "spearman_corr, spearman_pval = spearmanr(pred_list, target_list)\n",
    "\n",
    "x = np.array(target_list)\n",
    "y = np.array(pred_list)\n",
    "sorted_indices = np.argsort(x)\n",
    "x = x[sorted_indices]\n",
    "y = y[sorted_indices]\n",
    "\n",
    "# intercept\n",
    "x_with_const = sm.add_constant(x)\n",
    "model_sm = sm.OLS(y, x_with_const).fit()\n",
    "\n",
    "# 95% onfidence interval\n",
    "pred = model_sm.get_prediction(x_with_const)\n",
    "pred_summary = pred.summary_frame(alpha=0.05)\n",
    "\n",
    "# scatter plot\n",
    "plt.figure(figsize=(4.2, 4))\n",
    "plt.scatter(target_list, pred_list, alpha=0.5, color = \"#1E90FF\", edgecolors='none', s=60)\n",
    "plt.plot([min(target_list), max(target_list)], \n",
    "        [min(target_list), max(target_list)], \n",
    "        'r--', alpha = 0)\n",
    "plt.plot(x, pred_summary['mean'], 'r-', label='Fitted Line', color = \"#1E90FF\")\n",
    "plt.fill_between(x, pred_summary['mean_ci_lower'], pred_summary['mean_ci_upper'], \n",
    "                 color='#1E90FF', alpha=0.2, label='95% CI')\n",
    "\n",
    "plt.xticks([-2, -1, 0, 1, 2])\n",
    "plt.yticks([-2, -1, 0, 1, 2])  \n",
    "plt.xlim(-2, 2)\n",
    "plt.ylim(-2, 2)\n",
    "\n",
    "# text\n",
    "plt.text(0.05, 0.95, f'Pearson r: {pearson_corr:.2f} ($p={pearson_pval:.2e}$)',\n",
    "         transform=plt.gca().transAxes, fontsize=12, verticalalignment='top')\n",
    "plt.text(0.05, 0.90, f'Spearman r: {spearman_corr:.2f} ($p={spearman_corr:.2e}$)',\n",
    "         transform=plt.gca().transAxes, fontsize=12, verticalalignment='top')\n",
    "\n",
    "plt.title(\"\")\n",
    "plt.xlabel('True Values', fontsize=12)\n",
    "plt.ylabel('Predictions', fontsize=12)\n",
    "plt.legend()\n",
    "plt.gca().spines['top'].set_color('black')\n",
    "plt.gca().spines['right'].set_color('black')\n",
    "plt.gca().spines['left'].set_color('black')\n",
    "plt.gca().spines['bottom'].set_color('black')\n",
    "plt.grid(False)\n",
    "# plt.savefig(\"./val_scatter_plot.pdf\", format=\"pdf\", bbox_inches=\"tight\")\n",
    "plt.show()"
   ]
  },
  {
   "cell_type": "code",
   "execution_count": 10,
   "metadata": {},
   "outputs": [
    {
     "name": "stderr",
     "output_type": "stream",
     "text": [
      "/home/liujianhong/anaconda3/envs/liujh_pytorch/lib/python3.12/site-packages/tqdm/auto.py:21: TqdmWarning: IProgress not found. Please update jupyter and ipywidgets. See https://ipywidgets.readthedocs.io/en/stable/user_install.html\n",
      "  from .autonotebook import tqdm as notebook_tqdm\n",
      "/home/liujianhong/anaconda3/envs/liujh_pytorch/lib/python3.12/site-packages/umap/umap_.py:1952: UserWarning: n_jobs value 1 overridden to 1 by setting random_state. Use no seed for parallelism.\n",
      "  warn(\n",
      "/home/liujianhong/anaconda3/envs/liujh_pytorch/lib/python3.12/site-packages/umap/umap_.py:2462: UserWarning: n_neighbors is larger than the dataset size; truncating to X.shape[0] - 1\n",
      "  warn(\n"
     ]
    },
    {
     "data": {
      "image/png": "[encoded data removed]",
      "text/plain": [
       "<Figure size 500x300 with 2 Axes>"
      ]
     },
     "metadata": {},
     "output_type": "display_data"
    }
   ],
   "source": [
    "### Vis patient embedding\n",
    "\n",
    "import numpy as np\n",
    "import umap\n",
    "from sklearn.decomposition import PCA\n",
    "import matplotlib.pyplot as plt\n",
    "patient_embeddings = np.vstack(patient_embeddings)\n",
    "\n",
    "# UMAP\n",
    "reducer = umap.UMAP(n_neighbors=42, min_dist=0.01, n_components=2, random_state=2)\n",
    "embedding_umap = reducer.fit_transform(patient_embeddings)\n",
    "# shape of group\n",
    "group_markers = {\"Control\": 'o', \"COPD\": '^'}\n",
    "group_array = np.array(disease_list)\n",
    "pred_list = np.array(pred_list)\n",
    "target_list = np.array(target_list)\n",
    "meta_bmi = np.array(meta_bmi)\n",
    "meta_age = np.array(meta_age)\n",
    "meta_sex = np.array(meta_sex)\n",
    "# plot\n",
    "fig, ax = plt.subplots(1, 1, figsize=(5, 3))\n",
    "point_sizes = 100\n",
    "\n",
    "for i, group in enumerate(group_markers.keys()):\n",
    "    group_indices = group_array == group\n",
    "    x_coords = embedding_umap[group_indices, 0]\n",
    "    y_coords = embedding_umap[group_indices, 1]\n",
    "    labels = all_select_true[group_indices]  # label content\n",
    "    \n",
    "    # UMAP plot\n",
    "    scatter_umap = ax.scatter(\n",
    "        x_coords,\n",
    "        y_coords,\n",
    "        c=target_list[group_indices],\n",
    "        cmap='coolwarm',\n",
    "        s=point_sizes,\n",
    "        marker=group_markers[group],\n",
    "        alpha=0.7,\n",
    "        label=f'Group {group}',\n",
    "        vmin=np.min(target_list),\n",
    "        vmax=np.max(target_list),\n",
    "        edgecolors='none'\n",
    "    )\n",
    "    \n",
    "    # marking for each point\n",
    "    for x, y, label in zip(x_coords, y_coords, labels):\n",
    "        if label == 1:\n",
    "            ax.text(\n",
    "                x, y-0.2, str(\"*\"),\n",
    "                fontsize=16,\n",
    "                color='black',\n",
    "                ha='center',\n",
    "                va='center',\n",
    "                alpha=0.9\n",
    "            )\n",
    "        elif label == 2:\n",
    "            ax.text(\n",
    "                x, y-0.2, str(\"*\"),\n",
    "                fontsize=16,\n",
    "                color='red',\n",
    "                ha='center',\n",
    "                va='center',\n",
    "                alpha=0.9\n",
    "            )\n",
    "\n",
    "ax.set_title(\"UMAP of patient embeddings\")\n",
    "ax.set_xlabel(\"UMAP 1\")\n",
    "ax.set_ylabel(\"UMAP 2\")\n",
    "cbar_umap = plt.colorbar(scatter_umap, ax=ax, label=\"OBS FEV1%pred (Z-score)\")\n",
    "cbar_umap.ax.tick_params(labelsize=8)\n",
    "# axis x y\n",
    "ax.tick_params(axis='x', labelsize=8)\n",
    "ax.tick_params(axis='y', labelsize=8)\n",
    "# legend\n",
    "handles = [plt.Line2D([0], [0], marker=marker, color='w', markerfacecolor='k', markersize=10) for marker in group_markers.values()]\n",
    "ax.legend(handles, [f'{group}' for group in group_markers.keys()], title=\"\", loc='lower right')\n",
    "# plt.xticks([17,18,19,20,21])\n",
    "# plt.yticks([-9.5, -8.5, -7.5,-6.5]) \n",
    "plt.tight_layout()\n",
    "# plt.savefig(\"./embedding_umap.pdf\", format=\"pdf\", bbox_inches=\"tight\")\n",
    "plt.show()"
   ]
  }
 ],
 "metadata": {
  "kernelspec": {
   "display_name": "liujh_pytorch",
   "language": "python",
   "name": "python3"
  },
  "language_info": {
   "codemirror_mode": {
    "name": "ipython",
    "version": 3
   },
   "file_extension": ".py",
   "mimetype": "text/x-python",
   "name": "python",
   "nbconvert_exporter": "python",
   "pygments_lexer": "ipython3",
   "version": "3.12.3"
  }
 },
 "nbformat": 4,
 "nbformat_minor": 2
}
